{
 "cells": [
  {
   "cell_type": "code",
   "execution_count": null,
   "metadata": {},
   "outputs": [],
   "source": [
    "def grade_desc(grade,total):\n",
    "    final = grade/total\n",
    "    if(final >= 0.85):\n",
    "        print('Excelent')\n",
    "    elif ( final >= 0.75 and final < 0.85):\n",
    "        print('Very Good')\n",
    "    elif (final >= 0.65 and final < 0.75):\n",
    "        print('Good')\n",
    "    elif (final >= 0.50 and final < 0.65):\n",
    "        print('Acceptable')\n",
    "    elif (final < 0.50):\n",
    "        print('Fall')\n",
    "    else:\n",
    "        print('Error args')\n"
   ]
  },
  {
   "cell_type": "code",
   "execution_count": null,
   "metadata": {},
   "outputs": [],
   "source": [
    "grade_desc(86,100)"
   ]
  },
  {
   "cell_type": "code",
   "execution_count": null,
   "metadata": {},
   "outputs": [],
   "source": [
    "def is_triangle(a,b,c):\n",
    "    return a + b > c and a + c > b and b + c > a"
   ]
  },
  {
   "cell_type": "code",
   "execution_count": null,
   "metadata": {},
   "outputs": [],
   "source": [
    "is_triangle(3,4,12)"
   ]
  },
  {
   "cell_type": "code",
   "execution_count": null,
   "metadata": {},
   "outputs": [],
   "source": [
    "def reverse_integer(a):\n",
    "    rev = 0\n",
    "    digit = 0\n",
    "    while (a > 0):\n",
    "        digit = a % 10\n",
    "        rev = rev*10 + digit\n",
    "        a = int(a/10)\n",
    "    return rev\n",
    "        "
   ]
  },
  {
   "cell_type": "code",
   "execution_count": null,
   "metadata": {},
   "outputs": [],
   "source": [
    "reverse_integer(123)"
   ]
  },
  {
   "cell_type": "code",
   "execution_count": null,
   "metadata": {},
   "outputs": [],
   "source": [
    "def rev_int(a):\n",
    "    x = str(a)\n",
    "    return int(x[::-1])"
   ]
  },
  {
   "cell_type": "code",
   "execution_count": null,
   "metadata": {},
   "outputs": [],
   "source": [
    "rev_int(123)"
   ]
  },
  {
   "cell_type": "code",
   "execution_count": null,
   "metadata": {},
   "outputs": [],
   "source": [
    "def is_prime(n):\n",
    "    if n <= 1: \n",
    "        return False \n",
    "    for i in range(2,n//2+1):\n",
    "        if(n % i == 0):\n",
    "            return False\n",
    "    return True\n",
    "\n",
    "def count_primes(n):\n",
    "    count = 0\n",
    "    for i in range(n+1):\n",
    "        if is_prime(i):\n",
    "            print(i)\n",
    "            count += 1\n",
    "    return count\n",
    "            "
   ]
  },
  {
   "cell_type": "code",
   "execution_count": null,
   "metadata": {},
   "outputs": [],
   "source": [
    "is_prime(7)"
   ]
  },
  {
   "cell_type": "code",
   "execution_count": null,
   "metadata": {},
   "outputs": [],
   "source": [
    "count_primes(7)"
   ]
  },
  {
   "cell_type": "code",
   "execution_count": null,
   "metadata": {},
   "outputs": [],
   "source": [
    "def fibonacci(n):\n",
    "    #start index is zero\n",
    "    a = 0\n",
    "    b = 1\n",
    "    if( n <= 1 ) : \n",
    "        return n\n",
    "    for i in range(2,n+1):\n",
    "        c = a + b\n",
    "        a = b\n",
    "        b = c\n",
    "    return c\n",
    "        "
   ]
  },
  {
   "cell_type": "code",
   "execution_count": null,
   "metadata": {},
   "outputs": [],
   "source": [
    "fibonacci(3)"
   ]
  },
  {
   "cell_type": "code",
   "execution_count": null,
   "metadata": {},
   "outputs": [],
   "source": [
    "fibonacci(2)"
   ]
  },
  {
   "cell_type": "code",
   "execution_count": null,
   "metadata": {},
   "outputs": [],
   "source": [
    "fibonacci(8)"
   ]
  },
  {
   "cell_type": "code",
   "execution_count": null,
   "metadata": {},
   "outputs": [],
   "source": [
    "#start index is one\n",
    "def fib(n): \n",
    "    l = [0,1]\n",
    "    for i in range(2,n):\n",
    "        l.append(l[-2] + l[-1])\n",
    "    return l[n-1]"
   ]
  },
  {
   "cell_type": "code",
   "execution_count": null,
   "metadata": {},
   "outputs": [],
   "source": [
    "fib(8)"
   ]
  },
  {
   "cell_type": "code",
   "execution_count": null,
   "metadata": {},
   "outputs": [],
   "source": [
    "def calculate_vowels(s):\n",
    "    m = {}\n",
    "    for c in s:\n",
    "        m[c]  =  m.get(c,0) + 1\n",
    "    return m.items()"
   ]
  },
  {
   "cell_type": "code",
   "execution_count": null,
   "metadata": {},
   "outputs": [],
   "source": [
    "calculate_vowels('hello it is ahmed')"
   ]
  },
  {
   "cell_type": "code",
   "execution_count": null,
   "metadata": {},
   "outputs": [],
   "source": [
    "def process_text(s):\n",
    "    s = s.lower()\n",
    "    s1 = ''\n",
    "    for c in s:\n",
    "        if( (c >= 'a' and c <='z') or (c == ' ')):\n",
    "            s1 += c\n",
    "    return s1.split()"
   ]
  },
  {
   "cell_type": "code",
   "execution_count": null,
   "metadata": {},
   "outputs": [],
   "source": [
    "process_text(\"i'm ahmed :), how are you today ?!!\")"
   ]
  },
  {
   "cell_type": "code",
   "execution_count": 3,
   "metadata": {},
   "outputs": [],
   "source": [
    "def process_text2(s):\n",
    "    s = s.lower()\n",
    "    s1 = ''\n",
    "    for c in s:\n",
    "        if( c.isalpha() or c == ' '):\n",
    "            s1 += c\n",
    "    l = s1.split()\n",
    "    return l"
   ]
  },
  {
   "cell_type": "code",
   "execution_count": 30,
   "metadata": {},
   "outputs": [
    {
     "data": {
      "text/plain": [
       "['im', 'ahmed', 'how', 'are', 'you', 'today']"
      ]
     },
     "execution_count": 30,
     "metadata": {},
     "output_type": "execute_result"
    }
   ],
   "source": [
    "process_text2(\"i'm ahmed :), how are you today ?!!\")"
   ]
  },
  {
   "cell_type": "code",
   "execution_count": 31,
   "metadata": {},
   "outputs": [],
   "source": [
    "def process_text3(s):\n",
    "    pass\n",
    "#TODO with lambda"
   ]
  },
  {
   "cell_type": "code",
   "execution_count": 32,
   "metadata": {},
   "outputs": [],
   "source": [
    "def text_processing_with_word_count(s):\n",
    "    \n",
    "    my_dictionary = {}\n",
    "    text = process_text2(s)\n",
    "    \n",
    "    for word in text:\n",
    "        my_dictionary[word]  =  my_dictionary.get(word,0) + 1\n",
    "   \n",
    "    return my_dictionary"
   ]
  },
  {
   "cell_type": "code",
   "execution_count": 33,
   "metadata": {},
   "outputs": [
    {
     "data": {
      "text/plain": [
       "{'im': 1, 'ahmed': 2, 'how': 1, 'are': 1, 'you': 1, 'today': 1}"
      ]
     },
     "execution_count": 33,
     "metadata": {},
     "output_type": "execute_result"
    }
   ],
   "source": [
    "text_processing_with_word_count(\"i'm ahmed :), how are you today ahmed?!!\")"
   ]
  },
  {
   "cell_type": "code",
   "execution_count": 38,
   "metadata": {},
   "outputs": [],
   "source": [
    "def text_processing_with_word_count2(s):\n",
    "    pt = process_text2(s)\n",
    "    d =  { i : pt.count(i) for i in set(pt) }\n",
    "    return d"
   ]
  },
  {
   "cell_type": "code",
   "execution_count": 39,
   "metadata": {},
   "outputs": [
    {
     "data": {
      "text/plain": [
       "{'are': 1, 'you': 1, 'ahmed': 2, 'im': 1, 'today': 1, 'how': 1}"
      ]
     },
     "execution_count": 39,
     "metadata": {},
     "output_type": "execute_result"
    }
   ],
   "source": [
    "text_processing_with_word_count2(\"i'm ahmed :), how are you today ahmed?!!\")"
   ]
  },
  {
   "cell_type": "code",
   "execution_count": null,
   "metadata": {},
   "outputs": [],
   "source": []
  }
 ],
 "metadata": {
  "kernelspec": {
   "display_name": "Python 3",
   "language": "python",
   "name": "python3"
  },
  "language_info": {
   "codemirror_mode": {
    "name": "ipython",
    "version": 3
   },
   "file_extension": ".py",
   "mimetype": "text/x-python",
   "name": "python",
   "nbconvert_exporter": "python",
   "pygments_lexer": "ipython3",
   "version": "3.8.5"
  }
 },
 "nbformat": 4,
 "nbformat_minor": 4
}
